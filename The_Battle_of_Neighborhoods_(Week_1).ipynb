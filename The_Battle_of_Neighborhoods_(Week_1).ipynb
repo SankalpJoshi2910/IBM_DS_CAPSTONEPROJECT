{
  "nbformat": 4,
  "nbformat_minor": 0,
  "metadata": {
    "colab": {
      "name": "The Battle of Neighborhoods (Week 1).ipynb",
      "provenance": [],
      "authorship_tag": "ABX9TyO38pjYtK0xdR6lKGfFZevh",
      "include_colab_link": true
    },
    "kernelspec": {
      "name": "python3",
      "display_name": "Python 3"
    }
  },
  "cells": [
    {
      "cell_type": "markdown",
      "metadata": {
        "id": "view-in-github",
        "colab_type": "text"
      },
      "source": [
        "<a href=\"https://colab.research.google.com/github/SankalpJoshi2910/IBM_DS_CAPSTONEPROJECT/blob/main/The_Battle_of_Neighborhoods_(Week_1).ipynb\" target=\"_parent\"><img src=\"https://colab.research.google.com/assets/colab-badge.svg\" alt=\"Open In Colab\"/></a>"
      ]
    },
    {
      "cell_type": "markdown",
      "metadata": {
        "id": "wFbSvGFniwZW"
      },
      "source": [
        "#**IBM Applied Data Science Capstone Project**#\r\n",
        "## **The Battle of Neighborhoods (Week 1)**##\r\n"
      ]
    },
    {
      "cell_type": "markdown",
      "metadata": {
        "id": "Vqsb06uErnOM"
      },
      "source": [
        "##**Exploring similar neighbourhood between Bangalore and Hyderabad**##"
      ]
    },
    {
      "cell_type": "markdown",
      "metadata": {
        "id": "QtJN1AwDiwV-"
      },
      "source": [
        "This project is developed for the completion of IBM Applied Data Science Capstone Project. This module answers the following 2 questions\r\n",
        "\r\n",
        "1) What is the business problem choosen for this project?\r\n",
        "\r\n",
        "2) What type of data is selected and how it will serve the purpose of solving the business problem mentioned above?"
      ]
    },
    {
      "cell_type": "markdown",
      "metadata": {
        "id": "LuGFEyfNiwSb"
      },
      "source": [
        "### **Businesss Problem** ###\r\n",
        "Think of a scenario where you were living in Bangalore, India. But due to increase in the demand of the Data Scientist job in Hyderabad, you planned to move to Hyderabad. But since you don't any idea about the different areas of Hyderabad and the fact that you actually like the current area of Bangalore where you are residing due to all the amenities that you receive in that area, you want to look for a similar place with almost same amenities in Hyderabad also.\r\n",
        "\r\n",
        "In this project, we are trying to solve such a problem. We are going to explore the similarity between neighborhoods in Bangalore and Hyderabad, and will try to come up with some insights as a reference to which neighborhood in Hyderabad should one choose if he/she is moving from a particular area in Bangalore to Hyderabad."
      ]
    },
    {
      "cell_type": "markdown",
      "metadata": {
        "id": "VrOV4H8niwOh"
      },
      "source": [
        "###***About the Dataset***###\r\n",
        "For this project, we will need to collect\r\n",
        "\r\n",
        "1) The neighborhood data of Bangalore from 'https://www.mapsofindia.com/pincode/india/karnataka/bangalore/ '\r\n",
        "\r\n",
        "2) The neighborhood data of Hyderabad from 'https://www.mapsofindia.com/pincode/india/telangana/hyderabad/ '\r\n",
        "\r\n",
        "3) The Latitude and Longitude data for both the places which is extracted using the geocoders library of Python, and lastly\r\n",
        "\r\n",
        "4) The Foursqare Location data to identify the most common amenities in the neighborhood for both places. "
      ]
    }
  ]
}