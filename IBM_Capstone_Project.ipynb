{
  "nbformat": 4,
  "nbformat_minor": 0,
  "metadata": {
    "colab": {
      "name": "IBM Capstone Project.ipynb",
      "provenance": [],
      "authorship_tag": "ABX9TyM3AAlqYMoeEIM/SFT15O1o",
      "include_colab_link": true
    },
    "kernelspec": {
      "name": "python3",
      "display_name": "Python 3"
    },
    "accelerator": "GPU"
  },
  "cells": [
    {
      "cell_type": "markdown",
      "metadata": {
        "id": "view-in-github",
        "colab_type": "text"
      },
      "source": [
        "<a href=\"https://colab.research.google.com/github/SankalpJoshi2910/IBM_DS_CAPSTONEPROJECT/blob/main/IBM_Capstone_Project.ipynb\" target=\"_parent\"><img src=\"https://colab.research.google.com/assets/colab-badge.svg\" alt=\"Open In Colab\"/></a>"
      ]
    },
    {
      "cell_type": "markdown",
      "metadata": {
        "id": "3UNHA9ngWLsd"
      },
      "source": [
        "# **Capstone Project Notebook** #\r\n",
        "### This notebook contains all the working code developed for the completion of IBM DATA SCIENCE Capstone Project  ###"
      ]
    },
    {
      "cell_type": "code",
      "metadata": {
        "id": "f3MVIjQNV92H"
      },
      "source": [
        "import pandas as pd\r\n",
        "import numpy as np"
      ],
      "execution_count": 1,
      "outputs": []
    },
    {
      "cell_type": "code",
      "metadata": {
        "colab": {
          "base_uri": "https://localhost:8080/"
        },
        "id": "cs6J94_WW3HV",
        "outputId": "15d12e35-0e0e-4a80-8c46-8ad403c8d108"
      },
      "source": [
        "print(\"Hello, Capstone Project Course!\")"
      ],
      "execution_count": 1,
      "outputs": [
        {
          "output_type": "stream",
          "text": [
            "Hello, Capstone Project Course!\n"
          ],
          "name": "stdout"
        }
      ]
    },
    {
      "cell_type": "code",
      "metadata": {
        "id": "l8y6F1tcXHlX"
      },
      "source": [
        ""
      ],
      "execution_count": null,
      "outputs": []
    }
  ]
}